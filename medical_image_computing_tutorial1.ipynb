{
  "nbformat": 4,
  "nbformat_minor": 0,
  "metadata": {
    "colab": {
      "provenance": []
    },
    "kernelspec": {
      "name": "python3",
      "display_name": "Python 3"
    },
    "language_info": {
      "name": "python"
    }
  },
  "cells": [
    {
      "cell_type": "markdown",
      "source": [
        "medical image computing-tutorial"
      ],
      "metadata": {
        "id": "iqcxemOAmHz_"
      }
    },
    {
      "cell_type": "code",
      "source": [
        "!pip install SimpleITK"
      ],
      "metadata": {
        "colab": {
          "base_uri": "https://localhost:8080/"
        },
        "id": "72o_AXaLmZxd",
        "outputId": "5f494824-c93a-4d9d-903d-3175f3c97a06"
      },
      "execution_count": 3,
      "outputs": [
        {
          "output_type": "stream",
          "name": "stdout",
          "text": [
            "Looking in indexes: https://pypi.org/simple, https://us-python.pkg.dev/colab-wheels/public/simple/\n",
            "Collecting SimpleITK\n",
            "  Downloading SimpleITK-2.2.1-cp310-cp310-manylinux_2_17_x86_64.manylinux2014_x86_64.whl (52.7 MB)\n",
            "\u001b[2K     \u001b[90m━━━━━━━━━━━━━━━━━━━━━━━━━━━━━━━━━━━━━━━━\u001b[0m \u001b[32m52.7/52.7 MB\u001b[0m \u001b[31m16.5 MB/s\u001b[0m eta \u001b[36m0:00:00\u001b[0m\n",
            "\u001b[?25hInstalling collected packages: SimpleITK\n",
            "Successfully installed SimpleITK-2.2.1\n"
          ]
        }
      ]
    },
    {
      "cell_type": "code",
      "source": [
        "#load the required modules\n",
        "import numpy as np\n",
        "import SimpleITK as sitk"
      ],
      "metadata": {
        "id": "0vTTp_izmCKS"
      },
      "execution_count": 4,
      "outputs": []
    },
    {
      "cell_type": "code",
      "source": [
        "help(sitk.Image.GetPixel)"
      ],
      "metadata": {
        "colab": {
          "base_uri": "https://localhost:8080/"
        },
        "id": "7IOuu9RtmXFg",
        "outputId": "2d43eb2f-9fec-4b59-8867-cd5582db97ee"
      },
      "execution_count": 5,
      "outputs": [
        {
          "output_type": "stream",
          "name": "stdout",
          "text": [
            "Help on function GetPixel in module SimpleITK.SimpleITK:\n",
            "\n",
            "GetPixel(self, *idx)\n",
            "    Returns the value of a pixel.\n",
            "    \n",
            "    This method takes 2 parameters in 2D: the x and y index,\n",
            "    and 3 parameters in 3D: the x, y and z index.\n",
            "\n"
          ]
        }
      ]
    },
    {
      "cell_type": "code",
      "source": [
        "pip install imio"
      ],
      "metadata": {
        "colab": {
          "base_uri": "https://localhost:8080/",
          "height": 936
        },
        "id": "0m09KP8-oics",
        "outputId": "78859b81-0d21-4fdf-a24a-77ae315a4eba"
      },
      "execution_count": 10,
      "outputs": [
        {
          "output_type": "stream",
          "name": "stdout",
          "text": [
            "Looking in indexes: https://pypi.org/simple, https://us-python.pkg.dev/colab-wheels/public/simple/\n",
            "Collecting imio\n",
            "  Downloading imio-0.2.4-py3-none-any.whl (8.3 kB)\n",
            "Requirement already satisfied: numpy in /usr/local/lib/python3.10/dist-packages (from imio) (1.22.4)\n",
            "Requirement already satisfied: scikit-image in /usr/local/lib/python3.10/dist-packages (from imio) (0.19.3)\n",
            "Requirement already satisfied: tifffile in /usr/local/lib/python3.10/dist-packages (from imio) (2023.4.12)\n",
            "Collecting pynrrd (from imio)\n",
            "  Downloading pynrrd-1.0.0-py2.py3-none-any.whl (19 kB)\n",
            "Requirement already satisfied: nibabel in /usr/local/lib/python3.10/dist-packages (from imio) (3.0.2)\n",
            "Requirement already satisfied: tqdm in /usr/local/lib/python3.10/dist-packages (from imio) (4.65.0)\n",
            "Requirement already satisfied: natsort in /usr/local/lib/python3.10/dist-packages (from imio) (8.3.1)\n",
            "Requirement already satisfied: psutil in /usr/local/lib/python3.10/dist-packages (from imio) (5.9.5)\n",
            "Collecting slurmio>=0.0.5 (from imio)\n",
            "  Downloading slurmio-0.0.6-py3-none-any.whl (3.4 kB)\n",
            "Collecting imlib (from imio)\n",
            "  Downloading imlib-0.1.3-py3-none-any.whl (30 kB)\n",
            "Requirement already satisfied: pandas in /usr/local/lib/python3.10/dist-packages (from imlib->imio) (1.5.3)\n",
            "Collecting configobj (from imlib->imio)\n",
            "  Downloading configobj-5.0.8-py2.py3-none-any.whl (36 kB)\n",
            "Collecting micrometa (from imlib->imio)\n",
            "  Downloading micrometa-0.0.11-py3-none-any.whl (18 kB)\n",
            "Requirement already satisfied: PyYAML in /usr/local/lib/python3.10/dist-packages (from imlib->imio) (6.0)\n",
            "Requirement already satisfied: scipy in /usr/local/lib/python3.10/dist-packages (from imlib->imio) (1.10.1)\n",
            "Requirement already satisfied: seaborn in /usr/local/lib/python3.10/dist-packages (from imlib->imio) (0.12.2)\n",
            "Collecting nptyping (from pynrrd->imio)\n",
            "  Downloading nptyping-2.5.0-py3-none-any.whl (37 kB)\n",
            "Requirement already satisfied: typing-extensions in /usr/local/lib/python3.10/dist-packages (from pynrrd->imio) (4.5.0)\n",
            "Requirement already satisfied: networkx>=2.2 in /usr/local/lib/python3.10/dist-packages (from scikit-image->imio) (3.1)\n",
            "Requirement already satisfied: pillow!=7.1.0,!=7.1.1,!=8.3.0,>=6.1.0 in /usr/local/lib/python3.10/dist-packages (from scikit-image->imio) (8.4.0)\n",
            "Requirement already satisfied: imageio>=2.4.1 in /usr/local/lib/python3.10/dist-packages (from scikit-image->imio) (2.25.1)\n",
            "Requirement already satisfied: PyWavelets>=1.1.1 in /usr/local/lib/python3.10/dist-packages (from scikit-image->imio) (1.4.1)\n",
            "Requirement already satisfied: packaging>=20.0 in /usr/local/lib/python3.10/dist-packages (from scikit-image->imio) (23.1)\n",
            "Requirement already satisfied: six in /usr/local/lib/python3.10/dist-packages (from configobj->imlib->imio) (1.16.0)\n",
            "Collecting configparser (from micrometa->imlib->imio)\n",
            "  Downloading configparser-5.3.0-py3-none-any.whl (19 kB)\n",
            "Collecting luddite (from micrometa->imlib->imio)\n",
            "  Downloading luddite-1.0.2-py2.py3-none-any.whl (9.7 kB)\n",
            "Requirement already satisfied: python-dateutil>=2.8.1 in /usr/local/lib/python3.10/dist-packages (from pandas->imlib->imio) (2.8.2)\n",
            "Requirement already satisfied: pytz>=2020.1 in /usr/local/lib/python3.10/dist-packages (from pandas->imlib->imio) (2022.7.1)\n",
            "Requirement already satisfied: matplotlib!=3.6.1,>=3.1 in /usr/local/lib/python3.10/dist-packages (from seaborn->imlib->imio) (3.7.1)\n",
            "Requirement already satisfied: contourpy>=1.0.1 in /usr/local/lib/python3.10/dist-packages (from matplotlib!=3.6.1,>=3.1->seaborn->imlib->imio) (1.0.7)\n",
            "Requirement already satisfied: cycler>=0.10 in /usr/local/lib/python3.10/dist-packages (from matplotlib!=3.6.1,>=3.1->seaborn->imlib->imio) (0.11.0)\n",
            "Requirement already satisfied: fonttools>=4.22.0 in /usr/local/lib/python3.10/dist-packages (from matplotlib!=3.6.1,>=3.1->seaborn->imlib->imio) (4.39.3)\n",
            "Requirement already satisfied: kiwisolver>=1.0.1 in /usr/local/lib/python3.10/dist-packages (from matplotlib!=3.6.1,>=3.1->seaborn->imlib->imio) (1.4.4)\n",
            "Requirement already satisfied: pyparsing>=2.3.1 in /usr/local/lib/python3.10/dist-packages (from matplotlib!=3.6.1,>=3.1->seaborn->imlib->imio) (3.0.9)\n",
            "Requirement already satisfied: setuptools>=18.0 in /usr/local/lib/python3.10/dist-packages (from luddite->micrometa->imlib->imio) (67.7.2)\n",
            "Installing collected packages: slurmio, nptyping, luddite, configparser, configobj, pynrrd, micrometa, imlib, imio\n",
            "Successfully installed configobj-5.0.8 configparser-5.3.0 imio-0.2.4 imlib-0.1.3 luddite-1.0.2 micrometa-0.0.11 nptyping-2.5.0 pynrrd-1.0.0 slurmio-0.0.6\n"
          ]
        },
        {
          "output_type": "display_data",
          "data": {
            "application/vnd.colab-display-data+json": {
              "pip_warning": {
                "packages": [
                  "configparser",
                  "imio"
                ]
              }
            }
          },
          "metadata": {}
        }
      ]
    },
    {
      "cell_type": "code",
      "source": [
        "from imio import load, save\n",
        "\n",
        "img = load.load_any(\"/content/TCGA_CS_4941_19960909_1.tif\")\n",
        "save.to_nii(img, \"/content/TCGA_CS_4941_19960909_1.nii\")"
      ],
      "metadata": {
        "id": "mz0uSGy3oP5O"
      },
      "execution_count": 11,
      "outputs": []
    },
    {
      "cell_type": "code",
      "source": [
        "image=sitk.ReadImage(\"/content/TCGA_CS_4941_19960909_1.nii\")"
      ],
      "metadata": {
        "id": "2tXYXqj1m8Mo"
      },
      "execution_count": 13,
      "outputs": []
    },
    {
      "cell_type": "markdown",
      "source": [
        "Image dimensions"
      ],
      "metadata": {
        "id": "WS-XCGVUpITd"
      }
    },
    {
      "cell_type": "code",
      "source": [
        "imageSize=image.GetSize()\n",
        "n_rows=imageSize[0]\n",
        "n_cols=imageSize[1]\n",
        "n_slices=imageSize[2]\n",
        "print(\"image size number of rows:%d cols:%d slices:%d\" %(imageSize[0],imageSize[1],imageSize[2]))"
      ],
      "metadata": {
        "colab": {
          "base_uri": "https://localhost:8080/"
        },
        "id": "4nCURpDVnGRF",
        "outputId": "529fb51e-482e-4c3b-cd37-701e81e58eb4"
      },
      "execution_count": 14,
      "outputs": [
        {
          "output_type": "stream",
          "name": "stdout",
          "text": [
            "image size number of rows:256 cols:256 slices:3\n"
          ]
        }
      ]
    },
    {
      "cell_type": "markdown",
      "source": [
        "image orientation and origin in world coordinate space"
      ],
      "metadata": {
        "id": "lrZXDkxjqFmY"
      }
    },
    {
      "cell_type": "code",
      "source": [
        "print (image.GetOrigin())\n",
        "print (image.GetDirection())"
      ],
      "metadata": {
        "colab": {
          "base_uri": "https://localhost:8080/"
        },
        "id": "CoL9E_AZpwJn",
        "outputId": "bd812a74-1cd3-46c5-df7e-b4254b10754a"
      },
      "execution_count": 16,
      "outputs": [
        {
          "output_type": "stream",
          "name": "stdout",
          "text": [
            "(0.0, 0.0, 0.0)\n",
            "(-1.0, 0.0, 0.0, 0.0, -1.0, 0.0, 0.0, 0.0, 1.0)\n"
          ]
        }
      ]
    },
    {
      "cell_type": "code",
      "source": [
        "#Voxel size\n",
        "print(image.GetSpacing())"
      ],
      "metadata": {
        "colab": {
          "base_uri": "https://localhost:8080/"
        },
        "id": "zvuINRO7qRv_",
        "outputId": "b16da2ae-7f7a-46ac-822a-17c7163201f9"
      },
      "execution_count": 17,
      "outputs": [
        {
          "output_type": "stream",
          "name": "stdout",
          "text": [
            "(1.0, 1.0, 1.0)\n"
          ]
        }
      ]
    },
    {
      "cell_type": "code",
      "source": [
        "#reading and assigning pixel values\n",
        "print(\"the pixel value at x=0,y=0,z=0 is %d\" % int(image.GetPixel(0,0,0)))\n",
        "image.SetPixel(0,0,0,10)\n",
        "print(\"the new value is %d\"% int(image.GetPixel(0,0,0)))"
      ],
      "metadata": {
        "colab": {
          "base_uri": "https://localhost:8080/"
        },
        "id": "8JTiXx0kqdMF",
        "outputId": "2c7b2007-955c-43a7-f3d7-8c6a09bc94fd"
      },
      "execution_count": 23,
      "outputs": [
        {
          "output_type": "stream",
          "name": "stdout",
          "text": [
            "the pixel value at x=0,y=0,z=0 is 10\n",
            "the new value is 10\n"
          ]
        }
      ]
    },
    {
      "cell_type": "code",
      "source": [
        "print(image[0,0,0])"
      ],
      "metadata": {
        "colab": {
          "base_uri": "https://localhost:8080/"
        },
        "id": "QwCl-XxBrDAR",
        "outputId": "0bb12424-a8b9-45ba-8c62-439976c04b6e"
      },
      "execution_count": 24,
      "outputs": [
        {
          "output_type": "stream",
          "name": "stdout",
          "text": [
            "10\n"
          ]
        }
      ]
    },
    {
      "cell_type": "code",
      "source": [
        "#image statistics\n",
        "stats=sitk.StatisticsImageFilter()\n",
        "stats.Execute(image)\n",
        "max=stats.GetMaximum()\n",
        "min=stats.GetMinimum()\n",
        "print(\"min intensity={0}\\nmax intensity={1}\".format(min,max))"
      ],
      "metadata": {
        "colab": {
          "base_uri": "https://localhost:8080/"
        },
        "id": "nkVIqOmqrrgZ",
        "outputId": "cb8c7416-3e63-41d7-bfdb-3db8bb075eaf"
      },
      "execution_count": 25,
      "outputs": [
        {
          "output_type": "stream",
          "name": "stdout",
          "text": [
            "min intensity=0.0\n",
            "max intensity=215.0\n"
          ]
        }
      ]
    },
    {
      "cell_type": "code",
      "source": [],
      "metadata": {
        "id": "eCie3EJ7sGuD"
      },
      "execution_count": null,
      "outputs": []
    }
  ]
}